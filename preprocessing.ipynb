{
 "cells": [
  {
   "cell_type": "code",
   "execution_count": 1,
   "metadata": {},
   "outputs": [],
   "source": [
    "import numpy as np\n",
    "import pandas as pd\n",
    "import torch\n",
    "import torch.nn as nn\n",
    "import torch.nn.functional as F\n",
    "import time\n",
    "\n",
    "import torch.optim as optim\n",
    "\n",
    "from load_datasets import load_datasets\n",
    "from torch.utils.data import DataLoader\n",
    "from utils import *\n",
    "# from model import *\n",
    "from model import *\n",
    "from save_obj import *\n",
    "import pickle as pkl\n",
    "from TorchCoder import *"
   ]
  },
  {
   "cell_type": "code",
   "execution_count": 2,
   "metadata": {},
   "outputs": [],
   "source": [
    "import easydict\n",
    "\n",
    "args = easydict.EasyDict({\n",
    "    'path':'./dataset/train/',\n",
    "    'mode':'dev',\n",
    "    'pretrained_mode':False,\n",
    "    'time_limited':5,\n",
    "    'down_sampling':False,\n",
    "    'down_sampling_rate':16000,\n",
    "    'n_mfcc':16,\n",
    "    'windows':5,\n",
    "    'hidden_size':42,\n",
    "    'num_layers':2,\n",
    "    'batch_size':64,\n",
    "    'epoch':20,\n",
    "    'pretrained_model':'./model.pt'\n",
    "})\n"
   ]
  },
  {
   "cell_type": "code",
   "execution_count": 31,
   "metadata": {},
   "outputs": [
    {
     "name": "stdout",
     "output_type": "stream",
     "text": [
      "\t(0.355 sec)\n"
     ]
    }
   ],
   "source": [
    "datasets = load_datasets(args)"
   ]
  },
  {
   "cell_type": "code",
   "execution_count": 32,
   "metadata": {},
   "outputs": [
    {
     "name": "stdout",
     "output_type": "stream",
     "text": [
      "[+] cpu is available\n"
     ]
    }
   ],
   "source": [
    "data_loader = DataLoader(\n",
    "        datasets, \n",
    "        batch_size=args.batch_size, \n",
    "        shuffle=False\n",
    "    )\n",
    "device = torch.device(\"cuda\" if torch.cuda.is_available() else \"cpu\")\n",
    "print(f\"[+] {device} is available\")"
   ]
  },
  {
   "cell_type": "code",
   "execution_count": 33,
   "metadata": {},
   "outputs": [],
   "source": [
    "for data, labels in data_loader:\n",
    "    inputs = data"
   ]
  },
  {
   "cell_type": "code",
   "execution_count": 34,
   "metadata": {},
   "outputs": [
    {
     "data": {
      "text/plain": [
       "torch.Size([1, 216, 20])"
      ]
     },
     "execution_count": 34,
     "metadata": {},
     "output_type": "execute_result"
    }
   ],
   "source": [
    "inputs.shape"
   ]
  },
  {
   "cell_type": "code",
   "execution_count": 35,
   "metadata": {},
   "outputs": [
    {
     "data": {
      "text/plain": [
       "1"
      ]
     },
     "execution_count": 35,
     "metadata": {},
     "output_type": "execute_result"
    }
   ],
   "source": [
    "tmp = []\n",
    "for idx in range(len(inputs)):\n",
    "    _tmp = inputs[idx]\n",
    "    _tmp = torch.transpose(_tmp, 1, 0)\n",
    "    _tmp = _tmp.cpu().detach().numpy()\n",
    "    tmp.append(_tmp)\n",
    "    \n",
    "len(tmp)"
   ]
  },
  {
   "cell_type": "code",
   "execution_count": 36,
   "metadata": {},
   "outputs": [
    {
     "data": {
      "image/png": "[encoded data removed]",
      "text/plain": [
       "<Figure size 504x504 with 1 Axes>"
      ]
     },
     "metadata": {
      "needs_background": "light"
     },
     "output_type": "display_data"
    }
   ],
   "source": [
    "import librosa\n",
    "import librosa.display\n",
    "import matplotlib.pyplot as plt\n",
    "\n",
    "plt.figure(figsize=(7, 7))\n",
    "librosa.display.specshow(tmp[0], x_axis='time')\n",
    "plt.show()"
   ]
  },
  {
   "cell_type": "code",
   "execution_count": 37,
   "metadata": {},
   "outputs": [
    {
     "data": {
      "text/plain": [
       "array([[-3.4906265e+02, -3.1058984e+02, -3.1157007e+02, ...,\n",
       "        -3.0097549e+02, -2.9614038e+02, -3.3234195e+02],\n",
       "       [ 8.9976532e+01,  9.5311951e+01,  9.5743698e+01, ...,\n",
       "         8.3447243e+01,  8.9234947e+01,  8.9744339e+01],\n",
       "       [ 2.8538618e+01,  2.6752398e+01,  2.7483948e+01, ...,\n",
       "         2.1006636e+01,  2.1789253e+01,  2.6025940e+01],\n",
       "       ...,\n",
       "       [ 1.1696998e+00,  2.2945263e+00,  6.7321663e+00, ...,\n",
       "        -6.1289970e-02,  4.2664652e+00,  6.1115227e+00],\n",
       "       [-2.4348152e+00, -6.2043567e+00,  1.9057335e+00, ...,\n",
       "        -5.4886546e+00, -5.1832213e+00,  2.5965339e-01],\n",
       "       [ 4.6564131e+00,  3.3065300e+00,  2.3152711e+00, ...,\n",
       "         1.1190180e+01,  8.0360994e+00,  7.3565545e+00]], dtype=float32)"
      ]
     },
     "execution_count": 37,
     "metadata": {},
     "output_type": "execute_result"
    }
   ],
   "source": [
    "tmp[0]"
   ]
  },
  {
   "cell_type": "code",
   "execution_count": 38,
   "metadata": {},
   "outputs": [
    {
     "data": {
      "text/plain": [
       "(20, 216)"
      ]
     },
     "execution_count": 38,
     "metadata": {},
     "output_type": "execute_result"
    }
   ],
   "source": [
    "tmp[0].shape"
   ]
  },
  {
   "cell_type": "code",
   "execution_count": 39,
   "metadata": {},
   "outputs": [],
   "source": [
    "data = tmp[0]\n"
   ]
  },
  {
   "cell_type": "code",
   "execution_count": 40,
   "metadata": {},
   "outputs": [
    {
     "data": {
      "text/plain": [
       "array([[-3.0648407e+02, -3.1511478e+02, -3.1426041e+02, ...,\n",
       "        -3.1284055e+02, -2.9897559e+02, -2.9489877e+02],\n",
       "       [ 8.9921349e+01,  8.7275864e+01,  8.3240860e+01, ...,\n",
       "         9.0368729e+01,  9.3152740e+01,  9.1019089e+01],\n",
       "       [ 2.5019417e+01,  2.5871355e+01,  2.4302370e+01, ...,\n",
       "         2.6802532e+01,  2.4693729e+01,  2.1035608e+01],\n",
       "       ...,\n",
       "       [ 5.2501793e+00,  5.7081652e+00,  1.2273260e+01, ...,\n",
       "         2.8769364e+00,  2.3641996e+00,  3.0899811e+00],\n",
       "       [ 4.2353830e+00,  5.3357291e+00,  6.0406013e+00, ...,\n",
       "         3.6001715e-01,  1.3682021e+00,  6.6463810e-01],\n",
       "       [-6.1639166e-04,  5.8804603e+00,  7.8571987e+00, ...,\n",
       "         7.4159231e+00,  7.4459567e+00,  1.7943376e+00]], dtype=float32)"
      ]
     },
     "execution_count": 40,
     "metadata": {},
     "output_type": "execute_result"
    }
   ],
   "source": [
    "_data = np.roll(data, random.randint(1, 10), 1)\n",
    "_data"
   ]
  },
  {
   "cell_type": "code",
   "execution_count": 43,
   "metadata": {},
   "outputs": [
    {
     "data": {
      "image/png": "[encoded data removed]",
      "text/plain": [
       "<Figure size 1008x504 with 2 Axes>"
      ]
     },
     "metadata": {
      "needs_background": "light"
     },
     "output_type": "display_data"
    }
   ],
   "source": [
    "\n",
    "\n",
    "fig, ax = plt.subplots(1, 2, figsize=(14, 7))\n",
    "librosa.display.specshow(tmp[0], x_axis='time', ax=ax[0])\n",
    "librosa.display.specshow(_data, x_axis='time', ax=ax[1])\n",
    "plt.show()"
   ]
  },
  {
   "cell_type": "code",
   "execution_count": null,
   "metadata": {},
   "outputs": [],
   "source": []
  }
 ],
 "metadata": {
  "interpreter": {
   "hash": "6690bc6cf95529c45a9469b9abcb090e359ebff846887d81242bd56640757ed0"
  },
  "kernelspec": {
   "display_name": "Python 3.8.5 ('torch')",
   "language": "python",
   "name": "python3"
  },
  "language_info": {
   "codemirror_mode": {
    "name": "ipython",
    "version": 3
   },
   "file_extension": ".py",
   "mimetype": "text/x-python",
   "name": "python",
   "nbconvert_exporter": "python",
   "pygments_lexer": "ipython3",
   "version": "3.8.5"
  },
  "orig_nbformat": 4
 },
 "nbformat": 4,
 "nbformat_minor": 2
}
